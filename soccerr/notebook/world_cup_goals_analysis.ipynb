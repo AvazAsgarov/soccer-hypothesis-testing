{
 "cells": [
  {
   "cell_type": "code",
   "execution_count": 1,
   "id": "3fbcb55b",
   "metadata": {},
   "outputs": [],
   "source": [
    "import pandas as pd\n",
    "import pingouin as pg\n",
    "from scipy.stats import mannwhitneyu, chi2_contingency\n",
    "import matplotlib.pyplot as plt\n",
    "import seaborn as sns\n",
    "import warnings\n",
    "\n",
    "warnings.filterwarnings(\"ignore\")\n",
    "pd.set_option('display.max_columns', None)\n",
    "sns.set_style(\"whitegrid\")"
   ]
  },
  {
   "cell_type": "markdown",
   "id": "cdf15fea",
   "metadata": {},
   "source": [
    "# Data Preparation"
   ]
  },
  {
   "cell_type": "code",
   "execution_count": 2,
   "id": "922fccce",
   "metadata": {},
   "outputs": [],
   "source": [
    "men_df = pd.read_csv(\"men_results.csv\")\n",
    "women_df = pd.read_csv(\"women_results.csv\")"
   ]
  },
  {
   "cell_type": "code",
   "execution_count": 3,
   "id": "334d7b5f",
   "metadata": {},
   "outputs": [
    {
     "name": "stdout",
     "output_type": "stream",
     "text": [
      "<class 'pandas.core.frame.DataFrame'>\n",
      "RangeIndex: 4884 entries, 0 to 4883\n",
      "Data columns (total 7 columns):\n",
      " #   Column      Non-Null Count  Dtype \n",
      "---  ------      --------------  ----- \n",
      " 0   Unnamed: 0  4884 non-null   int64 \n",
      " 1   date        4884 non-null   object\n",
      " 2   home_team   4884 non-null   object\n",
      " 3   away_team   4884 non-null   object\n",
      " 4   home_score  4884 non-null   int64 \n",
      " 5   away_score  4884 non-null   int64 \n",
      " 6   tournament  4884 non-null   object\n",
      "dtypes: int64(3), object(4)\n",
      "memory usage: 267.2+ KB\n"
     ]
    }
   ],
   "source": [
    "women_df.info()"
   ]
  },
  {
   "cell_type": "code",
   "execution_count": 4,
   "id": "461efd80",
   "metadata": {},
   "outputs": [
    {
     "data": {
      "text/html": [
       "<div>\n",
       "<style scoped>\n",
       "    .dataframe tbody tr th:only-of-type {\n",
       "        vertical-align: middle;\n",
       "    }\n",
       "\n",
       "    .dataframe tbody tr th {\n",
       "        vertical-align: top;\n",
       "    }\n",
       "\n",
       "    .dataframe thead th {\n",
       "        text-align: right;\n",
       "    }\n",
       "</style>\n",
       "<table border=\"1\" class=\"dataframe\">\n",
       "  <thead>\n",
       "    <tr style=\"text-align: right;\">\n",
       "      <th></th>\n",
       "      <th>Unnamed: 0</th>\n",
       "      <th>date</th>\n",
       "      <th>home_team</th>\n",
       "      <th>away_team</th>\n",
       "      <th>home_score</th>\n",
       "      <th>away_score</th>\n",
       "      <th>tournament</th>\n",
       "    </tr>\n",
       "  </thead>\n",
       "  <tbody>\n",
       "    <tr>\n",
       "      <th>0</th>\n",
       "      <td>0</td>\n",
       "      <td>1969-11-01</td>\n",
       "      <td>Italy</td>\n",
       "      <td>France</td>\n",
       "      <td>1</td>\n",
       "      <td>0</td>\n",
       "      <td>Euro</td>\n",
       "    </tr>\n",
       "    <tr>\n",
       "      <th>1</th>\n",
       "      <td>1</td>\n",
       "      <td>1969-11-01</td>\n",
       "      <td>Denmark</td>\n",
       "      <td>England</td>\n",
       "      <td>4</td>\n",
       "      <td>3</td>\n",
       "      <td>Euro</td>\n",
       "    </tr>\n",
       "    <tr>\n",
       "      <th>2</th>\n",
       "      <td>2</td>\n",
       "      <td>1969-11-02</td>\n",
       "      <td>England</td>\n",
       "      <td>France</td>\n",
       "      <td>2</td>\n",
       "      <td>0</td>\n",
       "      <td>Euro</td>\n",
       "    </tr>\n",
       "    <tr>\n",
       "      <th>3</th>\n",
       "      <td>3</td>\n",
       "      <td>1969-11-02</td>\n",
       "      <td>Italy</td>\n",
       "      <td>Denmark</td>\n",
       "      <td>3</td>\n",
       "      <td>1</td>\n",
       "      <td>Euro</td>\n",
       "    </tr>\n",
       "    <tr>\n",
       "      <th>4</th>\n",
       "      <td>4</td>\n",
       "      <td>1975-08-25</td>\n",
       "      <td>Thailand</td>\n",
       "      <td>Australia</td>\n",
       "      <td>3</td>\n",
       "      <td>2</td>\n",
       "      <td>AFC Championship</td>\n",
       "    </tr>\n",
       "  </tbody>\n",
       "</table>\n",
       "</div>"
      ],
      "text/plain": [
       "   Unnamed: 0        date home_team  away_team  home_score  away_score  \\\n",
       "0           0  1969-11-01     Italy     France           1           0   \n",
       "1           1  1969-11-01   Denmark    England           4           3   \n",
       "2           2  1969-11-02   England     France           2           0   \n",
       "3           3  1969-11-02     Italy    Denmark           3           1   \n",
       "4           4  1975-08-25  Thailand  Australia           3           2   \n",
       "\n",
       "         tournament  \n",
       "0              Euro  \n",
       "1              Euro  \n",
       "2              Euro  \n",
       "3              Euro  \n",
       "4  AFC Championship  "
      ]
     },
     "execution_count": 4,
     "metadata": {},
     "output_type": "execute_result"
    }
   ],
   "source": [
    "women_df.head()"
   ]
  },
  {
   "cell_type": "code",
   "execution_count": 5,
   "id": "dd04904a",
   "metadata": {},
   "outputs": [],
   "source": [
    "men_df['date'] = pd.to_datetime(men_df['date'])\n",
    "women_df['date'] = pd.to_datetime(women_df['date'])"
   ]
  },
  {
   "cell_type": "code",
   "execution_count": 6,
   "id": "5a811226",
   "metadata": {},
   "outputs": [],
   "source": [
    "men_wc = men_df[(men_df['date'] > '2002-01-01') & (men_df['tournament'] == 'FIFA World Cup')]\n",
    "women_wc = women_df[(women_df['date'] > '2002-01-01') & (women_df['tournament'] == 'FIFA World Cup')]"
   ]
  },
  {
   "cell_type": "code",
   "execution_count": 7,
   "id": "b8c28afe",
   "metadata": {},
   "outputs": [],
   "source": [
    "men_wc['gender'] = 'men'\n",
    "women_wc['gender'] = 'women'"
   ]
  },
  {
   "cell_type": "code",
   "execution_count": 8,
   "id": "8a9cd0b6",
   "metadata": {},
   "outputs": [],
   "source": [
    "combined_df = pd.concat([men_wc, women_wc], axis=0, ignore_index=True)"
   ]
  },
  {
   "cell_type": "code",
   "execution_count": 9,
   "id": "b5eea475",
   "metadata": {},
   "outputs": [],
   "source": [
    "combined_df['total_goals'] = combined_df['home_score'] + combined_df['away_score']"
   ]
  },
  {
   "cell_type": "code",
   "execution_count": 10,
   "id": "b991ac3f",
   "metadata": {},
   "outputs": [],
   "source": [
    "if 'Unnamed: 0' in combined_df.columns:\n",
    "    combined_df = combined_df.drop(columns=['Unnamed: 0'])"
   ]
  },
  {
   "cell_type": "code",
   "execution_count": 11,
   "id": "c892b53f",
   "metadata": {},
   "outputs": [
    {
     "name": "stdout",
     "output_type": "stream",
     "text": [
      "<class 'pandas.core.frame.DataFrame'>\n",
      "RangeIndex: 584 entries, 0 to 583\n",
      "Data columns (total 8 columns):\n",
      " #   Column       Non-Null Count  Dtype         \n",
      "---  ------       --------------  -----         \n",
      " 0   date         584 non-null    datetime64[ns]\n",
      " 1   home_team    584 non-null    object        \n",
      " 2   away_team    584 non-null    object        \n",
      " 3   home_score   584 non-null    int64         \n",
      " 4   away_score   584 non-null    int64         \n",
      " 5   tournament   584 non-null    object        \n",
      " 6   gender       584 non-null    object        \n",
      " 7   total_goals  584 non-null    int64         \n",
      "dtypes: datetime64[ns](1), int64(3), object(4)\n",
      "memory usage: 36.6+ KB\n"
     ]
    }
   ],
   "source": [
    "combined_df.info()"
   ]
  },
  {
   "cell_type": "code",
   "execution_count": 12,
   "id": "50f5648e",
   "metadata": {},
   "outputs": [
    {
     "data": {
      "text/html": [
       "<div>\n",
       "<style scoped>\n",
       "    .dataframe tbody tr th:only-of-type {\n",
       "        vertical-align: middle;\n",
       "    }\n",
       "\n",
       "    .dataframe tbody tr th {\n",
       "        vertical-align: top;\n",
       "    }\n",
       "\n",
       "    .dataframe thead th {\n",
       "        text-align: right;\n",
       "    }\n",
       "</style>\n",
       "<table border=\"1\" class=\"dataframe\">\n",
       "  <thead>\n",
       "    <tr style=\"text-align: right;\">\n",
       "      <th></th>\n",
       "      <th>date</th>\n",
       "      <th>home_team</th>\n",
       "      <th>away_team</th>\n",
       "      <th>home_score</th>\n",
       "      <th>away_score</th>\n",
       "      <th>tournament</th>\n",
       "      <th>gender</th>\n",
       "      <th>total_goals</th>\n",
       "    </tr>\n",
       "  </thead>\n",
       "  <tbody>\n",
       "    <tr>\n",
       "      <th>0</th>\n",
       "      <td>2002-05-31</td>\n",
       "      <td>France</td>\n",
       "      <td>Senegal</td>\n",
       "      <td>0</td>\n",
       "      <td>1</td>\n",
       "      <td>FIFA World Cup</td>\n",
       "      <td>men</td>\n",
       "      <td>1</td>\n",
       "    </tr>\n",
       "    <tr>\n",
       "      <th>1</th>\n",
       "      <td>2002-06-01</td>\n",
       "      <td>Germany</td>\n",
       "      <td>Saudi Arabia</td>\n",
       "      <td>8</td>\n",
       "      <td>0</td>\n",
       "      <td>FIFA World Cup</td>\n",
       "      <td>men</td>\n",
       "      <td>8</td>\n",
       "    </tr>\n",
       "    <tr>\n",
       "      <th>2</th>\n",
       "      <td>2002-06-01</td>\n",
       "      <td>Republic of Ireland</td>\n",
       "      <td>Cameroon</td>\n",
       "      <td>1</td>\n",
       "      <td>1</td>\n",
       "      <td>FIFA World Cup</td>\n",
       "      <td>men</td>\n",
       "      <td>2</td>\n",
       "    </tr>\n",
       "    <tr>\n",
       "      <th>3</th>\n",
       "      <td>2002-06-01</td>\n",
       "      <td>Uruguay</td>\n",
       "      <td>Denmark</td>\n",
       "      <td>1</td>\n",
       "      <td>2</td>\n",
       "      <td>FIFA World Cup</td>\n",
       "      <td>men</td>\n",
       "      <td>3</td>\n",
       "    </tr>\n",
       "    <tr>\n",
       "      <th>4</th>\n",
       "      <td>2002-06-02</td>\n",
       "      <td>Argentina</td>\n",
       "      <td>Nigeria</td>\n",
       "      <td>1</td>\n",
       "      <td>0</td>\n",
       "      <td>FIFA World Cup</td>\n",
       "      <td>men</td>\n",
       "      <td>1</td>\n",
       "    </tr>\n",
       "  </tbody>\n",
       "</table>\n",
       "</div>"
      ],
      "text/plain": [
       "        date            home_team     away_team  home_score  away_score  \\\n",
       "0 2002-05-31               France       Senegal           0           1   \n",
       "1 2002-06-01              Germany  Saudi Arabia           8           0   \n",
       "2 2002-06-01  Republic of Ireland      Cameroon           1           1   \n",
       "3 2002-06-01              Uruguay       Denmark           1           2   \n",
       "4 2002-06-02            Argentina       Nigeria           1           0   \n",
       "\n",
       "       tournament gender  total_goals  \n",
       "0  FIFA World Cup    men            1  \n",
       "1  FIFA World Cup    men            8  \n",
       "2  FIFA World Cup    men            2  \n",
       "3  FIFA World Cup    men            3  \n",
       "4  FIFA World Cup    men            1  "
      ]
     },
     "execution_count": 12,
     "metadata": {},
     "output_type": "execute_result"
    }
   ],
   "source": [
    "combined_df.head()"
   ]
  },
  {
   "cell_type": "markdown",
   "id": "5d6629d3",
   "metadata": {},
   "source": [
    "# Exploratory Data Analysis"
   ]
  },
  {
   "cell_type": "markdown",
   "id": "0bbc77bc",
   "metadata": {},
   "source": [
    "## Summary Statistics"
   ]
  },
  {
   "cell_type": "code",
   "execution_count": 13,
   "id": "dcc5f6de",
   "metadata": {},
   "outputs": [
    {
     "data": {
      "text/html": [
       "<div>\n",
       "<style scoped>\n",
       "    .dataframe tbody tr th:only-of-type {\n",
       "        vertical-align: middle;\n",
       "    }\n",
       "\n",
       "    .dataframe tbody tr th {\n",
       "        vertical-align: top;\n",
       "    }\n",
       "\n",
       "    .dataframe thead tr th {\n",
       "        text-align: left;\n",
       "    }\n",
       "\n",
       "    .dataframe thead tr:last-of-type th {\n",
       "        text-align: right;\n",
       "    }\n",
       "</style>\n",
       "<table border=\"1\" class=\"dataframe\">\n",
       "  <thead>\n",
       "    <tr>\n",
       "      <th></th>\n",
       "      <th colspan=\"8\" halign=\"left\">total_goals</th>\n",
       "      <th colspan=\"8\" halign=\"left\">home_score</th>\n",
       "      <th colspan=\"8\" halign=\"left\">away_score</th>\n",
       "    </tr>\n",
       "    <tr>\n",
       "      <th></th>\n",
       "      <th>count</th>\n",
       "      <th>mean</th>\n",
       "      <th>std</th>\n",
       "      <th>min</th>\n",
       "      <th>25%</th>\n",
       "      <th>50%</th>\n",
       "      <th>75%</th>\n",
       "      <th>max</th>\n",
       "      <th>count</th>\n",
       "      <th>mean</th>\n",
       "      <th>std</th>\n",
       "      <th>min</th>\n",
       "      <th>25%</th>\n",
       "      <th>50%</th>\n",
       "      <th>75%</th>\n",
       "      <th>max</th>\n",
       "      <th>count</th>\n",
       "      <th>mean</th>\n",
       "      <th>std</th>\n",
       "      <th>min</th>\n",
       "      <th>25%</th>\n",
       "      <th>50%</th>\n",
       "      <th>75%</th>\n",
       "      <th>max</th>\n",
       "    </tr>\n",
       "    <tr>\n",
       "      <th>gender</th>\n",
       "      <th></th>\n",
       "      <th></th>\n",
       "      <th></th>\n",
       "      <th></th>\n",
       "      <th></th>\n",
       "      <th></th>\n",
       "      <th></th>\n",
       "      <th></th>\n",
       "      <th></th>\n",
       "      <th></th>\n",
       "      <th></th>\n",
       "      <th></th>\n",
       "      <th></th>\n",
       "      <th></th>\n",
       "      <th></th>\n",
       "      <th></th>\n",
       "      <th></th>\n",
       "      <th></th>\n",
       "      <th></th>\n",
       "      <th></th>\n",
       "      <th></th>\n",
       "      <th></th>\n",
       "      <th></th>\n",
       "      <th></th>\n",
       "    </tr>\n",
       "  </thead>\n",
       "  <tbody>\n",
       "    <tr>\n",
       "      <th>men</th>\n",
       "      <td>384.0</td>\n",
       "      <td>2.513021</td>\n",
       "      <td>1.652544</td>\n",
       "      <td>0.0</td>\n",
       "      <td>1.0</td>\n",
       "      <td>2.0</td>\n",
       "      <td>3.0</td>\n",
       "      <td>8.0</td>\n",
       "      <td>384.0</td>\n",
       "      <td>1.375</td>\n",
       "      <td>1.328538</td>\n",
       "      <td>0.0</td>\n",
       "      <td>0.0</td>\n",
       "      <td>1.0</td>\n",
       "      <td>2.0</td>\n",
       "      <td>8.0</td>\n",
       "      <td>384.0</td>\n",
       "      <td>1.138021</td>\n",
       "      <td>1.107398</td>\n",
       "      <td>0.0</td>\n",
       "      <td>0.0</td>\n",
       "      <td>1.0</td>\n",
       "      <td>2.0</td>\n",
       "      <td>7.0</td>\n",
       "    </tr>\n",
       "    <tr>\n",
       "      <th>women</th>\n",
       "      <td>200.0</td>\n",
       "      <td>2.980000</td>\n",
       "      <td>2.022387</td>\n",
       "      <td>0.0</td>\n",
       "      <td>2.0</td>\n",
       "      <td>3.0</td>\n",
       "      <td>4.0</td>\n",
       "      <td>13.0</td>\n",
       "      <td>200.0</td>\n",
       "      <td>1.805</td>\n",
       "      <td>1.937977</td>\n",
       "      <td>0.0</td>\n",
       "      <td>1.0</td>\n",
       "      <td>1.0</td>\n",
       "      <td>2.0</td>\n",
       "      <td>13.0</td>\n",
       "      <td>200.0</td>\n",
       "      <td>1.175000</td>\n",
       "      <td>1.289453</td>\n",
       "      <td>0.0</td>\n",
       "      <td>0.0</td>\n",
       "      <td>1.0</td>\n",
       "      <td>2.0</td>\n",
       "      <td>7.0</td>\n",
       "    </tr>\n",
       "  </tbody>\n",
       "</table>\n",
       "</div>"
      ],
      "text/plain": [
       "       total_goals                                               home_score  \\\n",
       "             count      mean       std  min  25%  50%  75%   max      count   \n",
       "gender                                                                        \n",
       "men          384.0  2.513021  1.652544  0.0  1.0  2.0  3.0   8.0      384.0   \n",
       "women        200.0  2.980000  2.022387  0.0  2.0  3.0  4.0  13.0      200.0   \n",
       "\n",
       "                                                  away_score            \\\n",
       "         mean       std  min  25%  50%  75%   max      count      mean   \n",
       "gender                                                                   \n",
       "men     1.375  1.328538  0.0  0.0  1.0  2.0   8.0      384.0  1.138021   \n",
       "women   1.805  1.937977  0.0  1.0  1.0  2.0  13.0      200.0  1.175000   \n",
       "\n",
       "                                           \n",
       "             std  min  25%  50%  75%  max  \n",
       "gender                                     \n",
       "men     1.107398  0.0  0.0  1.0  2.0  7.0  \n",
       "women   1.289453  0.0  0.0  1.0  2.0  7.0  "
      ]
     },
     "metadata": {},
     "output_type": "display_data"
    }
   ],
   "source": [
    "summary_stats = combined_df.groupby('gender')[['total_goals', 'home_score', 'away_score']].describe()\n",
    "display(summary_stats)"
   ]
  },
  {
   "cell_type": "markdown",
   "id": "7e44f044",
   "metadata": {},
   "source": [
    "## Goal Distribution"
   ]
  },
  {
   "cell_type": "code",
   "execution_count": 14,
   "id": "4307865d",
   "metadata": {},
   "outputs": [
    {
     "data": {
      "image/png": "[encoded data removed]",
      "text/plain": [
       "<Figure size 1200x600 with 1 Axes>"
      ]
     },
     "metadata": {},
     "output_type": "display_data"
    }
   ],
   "source": [
    "plt.figure(figsize=(12, 6))\n",
    "sns.histplot(data=combined_df, x='total_goals', hue='gender', multiple='dodge', kde=True, bins=10)\n",
    "plt.title('Distribution of Total Goals in FIFA World Cup Matches (Since 2002)')\n",
    "plt.xlabel('Total Goals Scored')\n",
    "plt.ylabel('Number of Matches')\n",
    "plt.show()"
   ]
  },
  {
   "cell_type": "markdown",
   "id": "cd561328",
   "metadata": {},
   "source": [
    "## Match Outcomes"
   ]
  },
  {
   "cell_type": "code",
   "execution_count": 15,
   "id": "2d79b151",
   "metadata": {},
   "outputs": [],
   "source": [
    "def get_outcome(row):\n",
    "    if row['home_score'] == row['away_score']:\n",
    "        return 'Draw'\n",
    "    elif row['home_score'] > row['away_score']:\n",
    "        return 'Home Win'\n",
    "    else:\n",
    "        return 'Away Win'\n",
    "\n",
    "combined_df['outcome'] = combined_df.apply(get_outcome, axis=1)"
   ]
  },
  {
   "cell_type": "code",
   "execution_count": 16,
   "id": "13c2aa33",
   "metadata": {},
   "outputs": [
    {
     "data": {
      "image/png": "[encoded data removed]",
      "text/plain": [
       "<Figure size 1000x600 with 1 Axes>"
      ]
     },
     "metadata": {},
     "output_type": "display_data"
    }
   ],
   "source": [
    "plt.figure(figsize=(10, 6))\n",
    "sns.countplot(data=combined_df, x='outcome', hue='gender', order=['Home Win', 'Away Win', 'Draw'])\n",
    "plt.title('Count of Match Outcomes in FIFA World Cups (Since 2002)')\n",
    "plt.xlabel('Match Outcome')\n",
    "plt.ylabel('Number of Matches')\n",
    "plt.show()"
   ]
  },
  {
   "cell_type": "markdown",
   "id": "2f42f6bb",
   "metadata": {},
   "source": [
    "# Hypothesis Testing"
   ]
  },
  {
   "cell_type": "code",
   "execution_count": null,
   "id": "4031c724",
   "metadata": {},
   "outputs": [],
   "source": [
    "def interpret_hypothesis_test(p_value, alt_description, alpha=0.1):\n",
    "    \"\"\"\n",
    "    General function to interpret hypothesis test results.\n",
    "\n",
    "    Parameters:\n",
    "    - p_value (float): The p-value from the test result.\n",
    "    - alt_description (str): What the alternative hypothesis claims.\n",
    "    - alpha (float, optional): Significance level (default is 0.1).\n",
    "    \"\"\"\n",
    "    \n",
    "    print(f\"Significance Level (alpha): {alpha}\")\n",
    "    print(f\"P-value: {p_value:.4f}\")\n",
    "\n",
    "    if p_value < alpha:\n",
    "        print(\"Result: Reject the null hypothesis (H₀).\")\n",
    "        print(f\"Conclusion: There is significant evidence that {alt_description}.\")\n",
    "    else:\n",
    "        print(\"Result: Fail to reject the null hypothesis (H₀).\")\n",
    "        print(f\"Conclusion: There is not enough evidence to conclude that {alt_description}.\")"
   ]
  },
  {
   "cell_type": "markdown",
   "id": "3045314c",
   "metadata": {},
   "source": [
    "### Hypothesis 1: Mean Total Goals\n",
    "\n",
    "**Summary:**  \n",
    "The mean total number of goals scored per match is greater in the **Women's World Cup** than in the **Men's World Cup**.\n",
    "\n",
    "- **Null Hypothesis (H₀):** The mean total goals are the same in both tournaments.\n",
    "\n",
    "- **Alternative Hypothesis (Hₐ):** The mean total goals are greater in the Women's World Cup.\n"
   ]
  },
  {
   "cell_type": "code",
   "execution_count": 18,
   "id": "8229badb",
   "metadata": {},
   "outputs": [],
   "source": [
    "women_total_goals = combined_df[combined_df['gender'] == 'women']['total_goals']\n",
    "men_total_goals = combined_df[combined_df['gender'] == 'men']['total_goals']"
   ]
  },
  {
   "cell_type": "code",
   "execution_count": 19,
   "id": "bff20ef6",
   "metadata": {},
   "outputs": [
    {
     "name": "stdout",
     "output_type": "stream",
     "text": [
      "Significance Level (alpha): 0.1\n",
      "P-value: 0.0051\n",
      "Result: Reject the null hypothesis (H₀).\n",
      "Conclusion: There is significant evidence that the mean total goals are greater in the Women's World Cup.\n"
     ]
    }
   ],
   "source": [
    "h1_results = pg.mwu(x=women_total_goals, y=men_total_goals, alternative='greater')\n",
    "p_val_h1 = h1_results['p-val'][0]\n",
    "\n",
    "interpret_hypothesis_test(p_val_h1, \"the mean total goals are greater in the Women's World Cup\")"
   ]
  },
  {
   "cell_type": "markdown",
   "id": "b51b87ca",
   "metadata": {},
   "source": [
    "### Hypothesis 2: Frequency of Draws\n",
    "\n",
    "**Summary:**  \n",
    "The proportion of matches ending in a draw is different between the **Men's** and **Women's World Cups**.\n",
    "\n",
    "- **Null Hypothesis (H₀):** The proportions are the same in both tournaments.\n",
    "\n",
    "- **Alternative Hypothesis (Hₐ):** The proportions are different between the Men's and Women's World Cups.\n"
   ]
  },
  {
   "cell_type": "code",
   "execution_count": 20,
   "id": "8ecd5d57",
   "metadata": {},
   "outputs": [
    {
     "data": {
      "text/html": [
       "<div>\n",
       "<style scoped>\n",
       "    .dataframe tbody tr th:only-of-type {\n",
       "        vertical-align: middle;\n",
       "    }\n",
       "\n",
       "    .dataframe tbody tr th {\n",
       "        vertical-align: top;\n",
       "    }\n",
       "\n",
       "    .dataframe thead th {\n",
       "        text-align: right;\n",
       "    }\n",
       "</style>\n",
       "<table border=\"1\" class=\"dataframe\">\n",
       "  <thead>\n",
       "    <tr style=\"text-align: right;\">\n",
       "      <th>outcome</th>\n",
       "      <th>Away Win</th>\n",
       "      <th>Draw</th>\n",
       "      <th>Home Win</th>\n",
       "    </tr>\n",
       "    <tr>\n",
       "      <th>gender</th>\n",
       "      <th></th>\n",
       "      <th></th>\n",
       "      <th></th>\n",
       "    </tr>\n",
       "  </thead>\n",
       "  <tbody>\n",
       "    <tr>\n",
       "      <th>men</th>\n",
       "      <td>129</td>\n",
       "      <td>88</td>\n",
       "      <td>167</td>\n",
       "    </tr>\n",
       "    <tr>\n",
       "      <th>women</th>\n",
       "      <td>63</td>\n",
       "      <td>29</td>\n",
       "      <td>108</td>\n",
       "    </tr>\n",
       "  </tbody>\n",
       "</table>\n",
       "</div>"
      ],
      "text/plain": [
       "outcome  Away Win  Draw  Home Win\n",
       "gender                           \n",
       "men           129    88       167\n",
       "women          63    29       108"
      ]
     },
     "execution_count": 20,
     "metadata": {},
     "output_type": "execute_result"
    }
   ],
   "source": [
    "contingency_table_h2 = pd.crosstab(combined_df['gender'], combined_df['outcome'])\n",
    "contingency_table_h2"
   ]
  },
  {
   "cell_type": "code",
   "execution_count": 21,
   "id": "a1c37207",
   "metadata": {},
   "outputs": [
    {
     "name": "stdout",
     "output_type": "stream",
     "text": [
      "Significance Level (alpha): 0.1\n",
      "P-value: 0.0192\n",
      "Result: Reject the null hypothesis (H₀).\n",
      "Conclusion: There is significant evidence that the proportion of draws is different between Men's and Women's World Cups.\n"
     ]
    }
   ],
   "source": [
    "_, p_val_h2, _, _ = chi2_contingency(contingency_table_h2)\n",
    "\n",
    "interpret_hypothesis_test(p_val_h2, \"the proportion of draws is different between Men's and Women's World Cups\")"
   ]
  },
  {
   "cell_type": "markdown",
   "id": "9decd948",
   "metadata": {},
   "source": [
    "### Hypothesis 3: Mean Home Team Goals\n",
    "\n",
    "**Summary:**  \n",
    "The mean number of goals scored by the **home team** is different between the **Men's** and **Women's World Cups**.\n",
    "\n",
    "- **Null Hypothesis (H₀):** The mean home goals scored is the same in both tournaments.\n",
    "\n",
    "- **Alternative Hypothesis (Hₐ):** The mean home goals scored is different between the Men's and Women's World Cups."
   ]
  },
  {
   "cell_type": "code",
   "execution_count": 22,
   "id": "af86e40d",
   "metadata": {},
   "outputs": [],
   "source": [
    "women_home_goals = combined_df[combined_df['gender'] == 'women']['home_score']\n",
    "men_home_goals = combined_df[combined_df['gender'] == 'men']['home_score']"
   ]
  },
  {
   "cell_type": "code",
   "execution_count": 23,
   "id": "f0fec6f2",
   "metadata": {},
   "outputs": [
    {
     "name": "stdout",
     "output_type": "stream",
     "text": [
      "Significance Level (alpha): 0.1\n",
      "P-value: 0.0148\n",
      "Result: Reject the null hypothesis (H₀).\n",
      "Conclusion: There is significant evidence that the mean number of goals scored by the home team is different between the Men's and Women's World Cups.\n"
     ]
    }
   ],
   "source": [
    "h3_results = pg.mwu(x=women_home_goals, y=men_home_goals, alternative='two-sided')\n",
    "p_val_h3 = h3_results['p-val'].values[0]\n",
    "\n",
    "interpret_hypothesis_test(p_val_h3, \"the mean number of goals scored by the home team is different between the Men's and Women's World Cups\")"
   ]
  },
  {
   "cell_type": "markdown",
   "id": "808f99e9",
   "metadata": {},
   "source": [
    "### Hypothesis 4: Mean Away Team Goals\n",
    "\n",
    "**Summary:**  \n",
    "The mean number of goals scored by the **away team** is greater in the **Women's World Cup** compared to the **Men's World Cup**.\n",
    "\n",
    "- **Null Hypothesis (H₀):** The mean away goals scored is the same in both tournaments.\n",
    "\n",
    "- **Alternative Hypothesis (Hₐ):** The mean away goals scored is greater in the Women's World Cup."
   ]
  },
  {
   "cell_type": "code",
   "execution_count": 24,
   "id": "b4fa7461",
   "metadata": {},
   "outputs": [],
   "source": [
    "women_away_goals = combined_df[combined_df['gender'] == 'women']['away_score']\n",
    "men_away_goals = combined_df[combined_df['gender'] == 'men']['away_score']"
   ]
  },
  {
   "cell_type": "code",
   "execution_count": 25,
   "id": "eeb52079",
   "metadata": {},
   "outputs": [
    {
     "name": "stdout",
     "output_type": "stream",
     "text": [
      "Significance Level (alpha): 0.1\n",
      "P-value: 0.6398\n",
      "esult: Fail to reject the null hypothesis (H₀).\n",
      "Conclusion: There is not enough evidence to conclude that the mean number of goals scored by the away team is greater in the Women's World Cup.\n"
     ]
    }
   ],
   "source": [
    "h4_results = pg.mwu(x=women_away_goals, y=men_away_goals, alternative='greater')\n",
    "p_val_h4 = h4_results['p-val'].values[0]\n",
    "\n",
    "interpret_hypothesis_test(p_val_h4, \"the mean number of goals scored by the away team is greater in the Women's World Cup\")"
   ]
  }
 ],
 "metadata": {
  "kernelspec": {
   "display_name": "Python 3",
   "language": "python",
   "name": "python3"
  },
  "language_info": {
   "codemirror_mode": {
    "name": "ipython",
    "version": 3
   },
   "file_extension": ".py",
   "mimetype": "text/x-python",
   "name": "python",
   "nbconvert_exporter": "python",
   "pygments_lexer": "ipython3",
   "version": "3.9.9"
  }
 },
 "nbformat": 4,
 "nbformat_minor": 5
}
